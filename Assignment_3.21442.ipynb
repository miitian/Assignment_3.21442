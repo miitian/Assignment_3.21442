{
 "cells": [
  {
   "cell_type": "markdown",
   "metadata": {},
   "source": [
    "## 1. Write a function to compute 5/0 and use try/except to catch the exceptions."
   ]
  },
  {
   "cell_type": "code",
   "execution_count": 5,
   "metadata": {},
   "outputs": [],
   "source": [
    "def catch_exception(num):\n",
    "    try:\n",
    "        return num/ 0\n",
    "    \n",
    "    except ZeroDivisionError:\n",
    "        return f'division by 0 is not permitted'\n",
    "        "
   ]
  },
  {
   "cell_type": "code",
   "execution_count": 6,
   "metadata": {},
   "outputs": [
    {
     "data": {
      "text/plain": [
       "'division by 0 is not permitted'"
      ]
     },
     "execution_count": 6,
     "metadata": {},
     "output_type": "execute_result"
    }
   ],
   "source": [
    "catch_exception(5)"
   ]
  },
  {
   "cell_type": "markdown",
   "metadata": {},
   "source": [
    "## 2. Implement a Python program to generate all sentences where subject is in [\"Americans\", \"Indians\"] and verb is in [\"Play\", \"Watch\"] and the object is in [\"Baseball\", \"Cricket\"]\n",
    "\n",
    "\n",
    "## Output\n",
    "####              Americans play Baseball\n",
    "####               Americans play Cricket\n",
    "####               Americans watch Baseball\n",
    "####               Americans watch Cricket\n",
    "####               Indians play Baseball\n",
    "####               Indians play Cricket\n",
    "####               Indians watch Baseball\n",
    "####               Indians watch Cricket\n",
    "\n"
   ]
  },
  {
   "cell_type": "code",
   "execution_count": 12,
   "metadata": {},
   "outputs": [],
   "source": [
    "subjects = [\"Americans\", \"Indians\"] \n",
    "verbs = [\"Play\", \"Watch\"] \n",
    "objects = [\"Baseball\", \"Cricket\"]\n",
    "\n",
    "def create_sentence():\n",
    "    sentences =  [sub+' '+verb+' '+obj for sub in subjects for verb in verbs for obj in objects]\n",
    "    \n",
    "    return sentences"
   ]
  },
  {
   "cell_type": "code",
   "execution_count": 13,
   "metadata": {},
   "outputs": [
    {
     "data": {
      "text/plain": [
       "['Americans Play Baseball',\n",
       " 'Americans Play Cricket',\n",
       " 'Americans Watch Baseball',\n",
       " 'Americans Watch Cricket',\n",
       " 'Indians Play Baseball',\n",
       " 'Indians Play Cricket',\n",
       " 'Indians Watch Baseball',\n",
       " 'Indians Watch Cricket']"
      ]
     },
     "execution_count": 13,
     "metadata": {},
     "output_type": "execute_result"
    }
   ],
   "source": [
    "create_sentence()"
   ]
  },
  {
   "cell_type": "code",
   "execution_count": null,
   "metadata": {},
   "outputs": [],
   "source": []
  }
 ],
 "metadata": {
  "kernelspec": {
   "display_name": "Python 3",
   "language": "python",
   "name": "python3"
  },
  "language_info": {
   "codemirror_mode": {
    "name": "ipython",
    "version": 3
   },
   "file_extension": ".py",
   "mimetype": "text/x-python",
   "name": "python",
   "nbconvert_exporter": "python",
   "pygments_lexer": "ipython3",
   "version": "3.6.5"
  }
 },
 "nbformat": 4,
 "nbformat_minor": 2
}
